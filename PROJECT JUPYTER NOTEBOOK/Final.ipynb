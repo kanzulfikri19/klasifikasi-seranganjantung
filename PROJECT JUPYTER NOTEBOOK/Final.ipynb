{
 "cells": [
  {
   "cell_type": "markdown",
   "id": "852d2103",
   "metadata": {},
   "source": [
    "# KLASIFIKASI DECISION TREE PADA DATA PENYEBAB GAGAL JANTUNG\n"
   ]
  },
  {
   "cell_type": "markdown",
   "id": "d1f60191",
   "metadata": {},
   "source": [
    "# Business Understanding\n",
    "* Objective :\n",
    "\n",
    "Memprediksi kematian akibat gagal jantung\n",
    "* Deskripsi :\n",
    "\n",
    "Penyakit kardiovaskular (CVDs) adalah penyebab kematian nomor 1 secara global, dari sekitar 17,9 juta jiwa setiap tahun, yang menyumbang 31% dari semua kematian di seluruh dunia.\n",
    "Gagal jantung adalah kejadian umum yang disebabkan oleh CVD dan dataset ini berisi 12 fitur yang dapat digunakan untuk memprediksi kematian akibat gagal jantung.\n",
    "Sebagian besar penyakit kardiovaskular dapat dicegah dengan mengatasi faktor risiko perilaku seperti penggunaan tembakau, diet tidak sehat dan obesitas, kurangnya aktivitas fisik, dan penggunaan alkohol yang berbahaya \n",
    "Orang dengan penyakit kardiovaskular atau yang memiliki risiko kardiovaskular tinggi (karena adanya satu atau lebih faktor risiko seperti hipertensi, diabetes, hiperlipidemia, atau penyakit yang sudah ada) memerlukan deteksi dan pengelolaan dini di mana model pembelajaran mesin dapat sangat membantu.\n"
   ]
  },
  {
   "cell_type": "markdown",
   "id": "4af38869",
   "metadata": {},
   "source": [
    "# Data Understanding\n",
    "* Import Librari\n",
    "Untuk melakukan dada understanding yang pertama harus dilakukan yaitu import librari"
   ]
  },
  {
   "cell_type": "code",
   "execution_count": 2,
   "id": "45d8d737",
   "metadata": {},
   "outputs": [],
   "source": [
    "import pandas as pd\n",
    "import numpy as np\n",
    "from sklearn import tree\n",
    "from sklearn.model_selection import train_test_split\n",
    "from sklearn.tree import DecisionTreeClassifier\n",
    "from sklearn.tree import export_graphviz\n",
    "import pydotplus\n",
    "from sklearn.metrics import classification_report\n",
    "import matplotlib.pyplot as plt\n",
    "from sklearn.datasets import make_classification\n",
    "from sklearn.metrics import plot_confusion_matrix\n",
    "from sklearn.model_selection import train_test_split\n",
    "from sklearn.svm import SVC\n",
    "import seaborn as sns\n",
    "from sklearn.metrics import confusion_matrix\n",
    "from sklearn.metrics import plot_confusion_matrix"
   ]
  },
  {
   "cell_type": "markdown",
   "id": "3eaa1b23",
   "metadata": {},
   "source": [
    "* Load data\n",
    "Selanjutnya yaitu mengimport dataset yang akan digunakan"
   ]
  },
  {
   "cell_type": "code",
   "execution_count": 3,
   "id": "53097a75",
   "metadata": {},
   "outputs": [],
   "source": [
    "data = pd.read_csv(r'E:\\\\heart_failure_clinical_records_dataset.csv')"
   ]
  },
  {
   "cell_type": "markdown",
   "id": "828e6a8b",
   "metadata": {},
   "source": [
    "# Rangkuman data dan visualisasi\n",
    "* Setelah import data, kita bisa melihat isi dari data yang akan dipakai"
   ]
  },
  {
   "cell_type": "code",
   "execution_count": 4,
   "id": "836dd0ff",
   "metadata": {},
   "outputs": [
    {
     "data": {
      "text/html": [
       "<div>\n",
       "<style scoped>\n",
       "    .dataframe tbody tr th:only-of-type {\n",
       "        vertical-align: middle;\n",
       "    }\n",
       "\n",
       "    .dataframe tbody tr th {\n",
       "        vertical-align: top;\n",
       "    }\n",
       "\n",
       "    .dataframe thead th {\n",
       "        text-align: right;\n",
       "    }\n",
       "</style>\n",
       "<table border=\"1\" class=\"dataframe\">\n",
       "  <thead>\n",
       "    <tr style=\"text-align: right;\">\n",
       "      <th></th>\n",
       "      <th>age</th>\n",
       "      <th>anaemia</th>\n",
       "      <th>creatinine_phosphokinase</th>\n",
       "      <th>diabetes</th>\n",
       "      <th>ejection_fraction</th>\n",
       "      <th>high_blood_pressure</th>\n",
       "      <th>platelets</th>\n",
       "      <th>serum_creatinine</th>\n",
       "      <th>serum_sodium</th>\n",
       "      <th>sex</th>\n",
       "      <th>smoking</th>\n",
       "      <th>time</th>\n",
       "      <th>DEATH_EVENT</th>\n",
       "    </tr>\n",
       "  </thead>\n",
       "  <tbody>\n",
       "    <tr>\n",
       "      <th>0</th>\n",
       "      <td>75.0</td>\n",
       "      <td>0</td>\n",
       "      <td>582</td>\n",
       "      <td>0</td>\n",
       "      <td>20</td>\n",
       "      <td>1</td>\n",
       "      <td>265000.00</td>\n",
       "      <td>1.9</td>\n",
       "      <td>130</td>\n",
       "      <td>1</td>\n",
       "      <td>0</td>\n",
       "      <td>4</td>\n",
       "      <td>1</td>\n",
       "    </tr>\n",
       "    <tr>\n",
       "      <th>1</th>\n",
       "      <td>55.0</td>\n",
       "      <td>0</td>\n",
       "      <td>7861</td>\n",
       "      <td>0</td>\n",
       "      <td>38</td>\n",
       "      <td>0</td>\n",
       "      <td>263358.03</td>\n",
       "      <td>1.1</td>\n",
       "      <td>136</td>\n",
       "      <td>1</td>\n",
       "      <td>0</td>\n",
       "      <td>6</td>\n",
       "      <td>1</td>\n",
       "    </tr>\n",
       "    <tr>\n",
       "      <th>2</th>\n",
       "      <td>65.0</td>\n",
       "      <td>0</td>\n",
       "      <td>146</td>\n",
       "      <td>0</td>\n",
       "      <td>20</td>\n",
       "      <td>0</td>\n",
       "      <td>162000.00</td>\n",
       "      <td>1.3</td>\n",
       "      <td>129</td>\n",
       "      <td>1</td>\n",
       "      <td>1</td>\n",
       "      <td>7</td>\n",
       "      <td>1</td>\n",
       "    </tr>\n",
       "    <tr>\n",
       "      <th>3</th>\n",
       "      <td>50.0</td>\n",
       "      <td>1</td>\n",
       "      <td>111</td>\n",
       "      <td>0</td>\n",
       "      <td>20</td>\n",
       "      <td>0</td>\n",
       "      <td>210000.00</td>\n",
       "      <td>1.9</td>\n",
       "      <td>137</td>\n",
       "      <td>1</td>\n",
       "      <td>0</td>\n",
       "      <td>7</td>\n",
       "      <td>1</td>\n",
       "    </tr>\n",
       "    <tr>\n",
       "      <th>4</th>\n",
       "      <td>65.0</td>\n",
       "      <td>1</td>\n",
       "      <td>160</td>\n",
       "      <td>1</td>\n",
       "      <td>20</td>\n",
       "      <td>0</td>\n",
       "      <td>327000.00</td>\n",
       "      <td>2.7</td>\n",
       "      <td>116</td>\n",
       "      <td>0</td>\n",
       "      <td>0</td>\n",
       "      <td>8</td>\n",
       "      <td>1</td>\n",
       "    </tr>\n",
       "  </tbody>\n",
       "</table>\n",
       "</div>"
      ],
      "text/plain": [
       "    age  anaemia  creatinine_phosphokinase  diabetes  ejection_fraction  \\\n",
       "0  75.0        0                       582         0                 20   \n",
       "1  55.0        0                      7861         0                 38   \n",
       "2  65.0        0                       146         0                 20   \n",
       "3  50.0        1                       111         0                 20   \n",
       "4  65.0        1                       160         1                 20   \n",
       "\n",
       "   high_blood_pressure  platelets  serum_creatinine  serum_sodium  sex  \\\n",
       "0                    1  265000.00               1.9           130    1   \n",
       "1                    0  263358.03               1.1           136    1   \n",
       "2                    0  162000.00               1.3           129    1   \n",
       "3                    0  210000.00               1.9           137    1   \n",
       "4                    0  327000.00               2.7           116    0   \n",
       "\n",
       "   smoking  time  DEATH_EVENT  \n",
       "0        0     4            1  \n",
       "1        0     6            1  \n",
       "2        1     7            1  \n",
       "3        0     7            1  \n",
       "4        0     8            1  "
      ]
     },
     "execution_count": 4,
     "metadata": {},
     "output_type": "execute_result"
    }
   ],
   "source": [
    "data.head()"
   ]
  },
  {
   "cell_type": "markdown",
   "id": "f2a29b3e",
   "metadata": {},
   "source": [
    "* Deskripsi variabel\n",
    "Pada visualisasi terdapat 12 fitur dan 1 label\n",
    "\n",
    "FITUR\n",
    "\n",
    "Age, berisi umur pada pasien\n",
    "\n",
    "Anaemia, berisi kandungan sel darah merah dan hemoglobin (0,1)\n",
    "\n",
    "creatinine_phosphokinase, berisi tingkat kandungan CPK enzyme pada darah (mcg/L)\n",
    "\n",
    "Diabetes, berisi pasien yang memiliki diabetes (0,1)\n",
    "\n",
    "Ejection fraction, berisi persentase darah yang ada pada jantung\n",
    "\n",
    "High blood pressure, berisi pasien yang memiliki hipertensi (0,1)\n",
    "\n",
    "Platelets, berisi kandungan platelet pada darah (kiloplatelets/mL)\n",
    "\n",
    "Serum creatinine, berisi kandungan serum creatinin (mg/dL)\n",
    "\n",
    "Serum sodium, berisi kandungan serum sodium (mEq/L)\n",
    "\n",
    "Sex, Jenis kelamin (0,1)\n",
    "\n",
    "Smoking, pasien yang merokok (0,1)\n",
    "\n",
    "Time, Jangka waktu pasien dirawat (hari)\n",
    "\n",
    "LABEL\n",
    "\n",
    "DEATH EVENT, pasien yang meninggal atau tidak pada saat dirawat"
   ]
  },
  {
   "cell_type": "markdown",
   "id": "72968d63",
   "metadata": {},
   "source": [
    "* Cek jumlah data\n",
    "Tahap ini akan mengecek jumlah keseluruhan data"
   ]
  },
  {
   "cell_type": "code",
   "execution_count": 5,
   "id": "f38bebef",
   "metadata": {},
   "outputs": [
    {
     "data": {
      "text/plain": [
       "(299, 13)"
      ]
     },
     "execution_count": 5,
     "metadata": {},
     "output_type": "execute_result"
    }
   ],
   "source": [
    "data.shape"
   ]
  },
  {
   "cell_type": "markdown",
   "id": "d488b13a",
   "metadata": {},
   "source": [
    "# Data Preparation\n",
    "* selanjutnya kita akan lihat apakah ada missing value pada dataset"
   ]
  },
  {
   "cell_type": "code",
   "execution_count": 6,
   "id": "c27b9856",
   "metadata": {},
   "outputs": [
    {
     "data": {
      "text/plain": [
       "age                         0\n",
       "anaemia                     0\n",
       "creatinine_phosphokinase    0\n",
       "diabetes                    0\n",
       "ejection_fraction           0\n",
       "high_blood_pressure         0\n",
       "platelets                   0\n",
       "serum_creatinine            0\n",
       "serum_sodium                0\n",
       "sex                         0\n",
       "smoking                     0\n",
       "time                        0\n",
       "DEATH_EVENT                 0\n",
       "dtype: int64"
      ]
     },
     "execution_count": 6,
     "metadata": {},
     "output_type": "execute_result"
    }
   ],
   "source": [
    "data.isnull().sum()"
   ]
  },
  {
   "cell_type": "markdown",
   "id": "c1f56707",
   "metadata": {},
   "source": [
    "* melihat informasi dari setiap kolom"
   ]
  },
  {
   "cell_type": "code",
   "execution_count": 7,
   "id": "f1a37d3d",
   "metadata": {},
   "outputs": [
    {
     "name": "stdout",
     "output_type": "stream",
     "text": [
      "<class 'pandas.core.frame.DataFrame'>\n",
      "RangeIndex: 299 entries, 0 to 298\n",
      "Data columns (total 13 columns):\n",
      " #   Column                    Non-Null Count  Dtype  \n",
      "---  ------                    --------------  -----  \n",
      " 0   age                       299 non-null    float64\n",
      " 1   anaemia                   299 non-null    int64  \n",
      " 2   creatinine_phosphokinase  299 non-null    int64  \n",
      " 3   diabetes                  299 non-null    int64  \n",
      " 4   ejection_fraction         299 non-null    int64  \n",
      " 5   high_blood_pressure       299 non-null    int64  \n",
      " 6   platelets                 299 non-null    float64\n",
      " 7   serum_creatinine          299 non-null    float64\n",
      " 8   serum_sodium              299 non-null    int64  \n",
      " 9   sex                       299 non-null    int64  \n",
      " 10  smoking                   299 non-null    int64  \n",
      " 11  time                      299 non-null    int64  \n",
      " 12  DEATH_EVENT               299 non-null    int64  \n",
      "dtypes: float64(3), int64(10)\n",
      "memory usage: 30.5 KB\n"
     ]
    }
   ],
   "source": [
    "data.info()"
   ]
  },
  {
   "cell_type": "markdown",
   "id": "edd99e10",
   "metadata": {},
   "source": [
    "* melihat frekuensi dari setiap kolom"
   ]
  },
  {
   "cell_type": "code",
   "execution_count": 8,
   "id": "4f13c0d4",
   "metadata": {},
   "outputs": [
    {
     "name": "stdout",
     "output_type": "stream",
     "text": [
      "60.000    33\n",
      "50.000    27\n",
      "65.000    26\n",
      "70.000    25\n",
      "45.000    19\n",
      "55.000    17\n",
      "75.000    11\n",
      "53.000    10\n",
      "58.000    10\n",
      "63.000     8\n",
      "80.000     7\n",
      "72.000     7\n",
      "40.000     7\n",
      "42.000     7\n",
      "85.000     6\n",
      "68.000     5\n",
      "52.000     5\n",
      "62.000     5\n",
      "51.000     4\n",
      "59.000     4\n",
      "61.000     4\n",
      "73.000     4\n",
      "49.000     4\n",
      "69.000     3\n",
      "46.000     3\n",
      "64.000     3\n",
      "82.000     3\n",
      "90.000     3\n",
      "78.000     2\n",
      "60.667     2\n",
      "54.000     2\n",
      "77.000     2\n",
      "57.000     2\n",
      "66.000     2\n",
      "44.000     2\n",
      "67.000     2\n",
      "95.000     2\n",
      "48.000     2\n",
      "43.000     1\n",
      "86.000     1\n",
      "81.000     1\n",
      "79.000     1\n",
      "41.000     1\n",
      "94.000     1\n",
      "87.000     1\n",
      "47.000     1\n",
      "56.000     1\n",
      "Name: age, dtype: int64\n",
      "0    170\n",
      "1    129\n",
      "Name: anaemia, dtype: int64\n",
      "582     47\n",
      "66       4\n",
      "129      4\n",
      "231      3\n",
      "69       3\n",
      "        ..\n",
      "748      1\n",
      "1876     1\n",
      "936      1\n",
      "292      1\n",
      "2413     1\n",
      "Name: creatinine_phosphokinase, Length: 208, dtype: int64\n",
      "0    174\n",
      "1    125\n",
      "Name: diabetes, dtype: int64\n",
      "35    49\n",
      "38    40\n",
      "40    37\n",
      "25    36\n",
      "30    34\n",
      "60    31\n",
      "50    21\n",
      "45    20\n",
      "20    18\n",
      "55     3\n",
      "15     2\n",
      "62     2\n",
      "17     2\n",
      "65     1\n",
      "14     1\n",
      "80     1\n",
      "70     1\n",
      "Name: ejection_fraction, dtype: int64\n",
      "0    194\n",
      "1    105\n",
      "Name: high_blood_pressure, dtype: int64\n",
      "263358.03    25\n",
      "221000.00     4\n",
      "279000.00     4\n",
      "271000.00     4\n",
      "305000.00     4\n",
      "             ..\n",
      "227000.00     1\n",
      "289000.00     1\n",
      "300000.00     1\n",
      "217000.00     1\n",
      "742000.00     1\n",
      "Name: platelets, Length: 176, dtype: int64\n",
      "1.00    50\n",
      "1.10    32\n",
      "0.90    32\n",
      "1.20    24\n",
      "0.80    24\n",
      "1.30    20\n",
      "0.70    19\n",
      "1.18    11\n",
      "1.40     9\n",
      "1.70     9\n",
      "1.83     8\n",
      "1.60     6\n",
      "1.90     5\n",
      "2.10     5\n",
      "1.50     5\n",
      "0.60     4\n",
      "1.80     4\n",
      "2.30     3\n",
      "2.70     3\n",
      "2.50     3\n",
      "3.50     2\n",
      "2.40     2\n",
      "3.00     2\n",
      "0.50     1\n",
      "5.00     1\n",
      "0.75     1\n",
      "6.10     1\n",
      "3.40     1\n",
      "3.70     1\n",
      "9.00     1\n",
      "4.00     1\n",
      "3.20     1\n",
      "5.80     1\n",
      "2.90     1\n",
      "2.00     1\n",
      "2.20     1\n",
      "6.80     1\n",
      "9.40     1\n",
      "4.40     1\n",
      "3.80     1\n",
      "Name: serum_creatinine, dtype: int64\n",
      "136    40\n",
      "137    38\n",
      "140    35\n",
      "134    32\n",
      "138    23\n",
      "139    22\n",
      "135    16\n",
      "132    14\n",
      "141    12\n",
      "142    11\n",
      "133    10\n",
      "145     9\n",
      "130     9\n",
      "144     5\n",
      "131     5\n",
      "127     3\n",
      "143     3\n",
      "128     2\n",
      "129     2\n",
      "121     1\n",
      "116     1\n",
      "146     1\n",
      "126     1\n",
      "124     1\n",
      "113     1\n",
      "125     1\n",
      "148     1\n",
      "Name: serum_sodium, dtype: int64\n",
      "1    194\n",
      "0    105\n",
      "Name: sex, dtype: int64\n",
      "0    203\n",
      "1     96\n",
      "Name: smoking, dtype: int64\n",
      "250    7\n",
      "187    7\n",
      "10     6\n",
      "186    6\n",
      "107    6\n",
      "      ..\n",
      "97     1\n",
      "96     1\n",
      "86     1\n",
      "77     1\n",
      "285    1\n",
      "Name: time, Length: 148, dtype: int64\n"
     ]
    }
   ],
   "source": [
    "feature_cols = ['age', 'anaemia', 'creatinine_phosphokinase', 'diabetes', 'ejection_fraction' , 'high_blood_pressure', 'platelets' ,'serum_creatinine','serum_sodium', 'sex','smoking','time']\n",
    "\n",
    "for col in feature_cols:\n",
    "    \n",
    "    print(data[col].value_counts())   "
   ]
  },
  {
   "cell_type": "markdown",
   "id": "ea1a46e0",
   "metadata": {},
   "source": [
    "* melihat isi dari kolom target"
   ]
  },
  {
   "cell_type": "code",
   "execution_count": 9,
   "id": "44b29294",
   "metadata": {},
   "outputs": [
    {
     "data": {
      "text/plain": [
       "0    203\n",
       "1     96\n",
       "Name: DEATH_EVENT, dtype: int64"
      ]
     },
     "execution_count": 9,
     "metadata": {},
     "output_type": "execute_result"
    }
   ],
   "source": [
    "data['DEATH_EVENT'].value_counts()"
   ]
  },
  {
   "cell_type": "markdown",
   "id": "3bf96d6a",
   "metadata": {},
   "source": [
    "# Modeling\n",
    "* mendefinisikan fitur dan target"
   ]
  },
  {
   "cell_type": "code",
   "execution_count": 10,
   "id": "ddd94fa3",
   "metadata": {},
   "outputs": [],
   "source": [
    "#Mendefinisikan fitur dan label\n",
    "X = data[feature_cols] # Features\n",
    "y = data.DEATH_EVENT # Target variable"
   ]
  },
  {
   "cell_type": "markdown",
   "id": "c846898f",
   "metadata": {},
   "source": [
    "* split data untuk training dan tes"
   ]
  },
  {
   "cell_type": "code",
   "execution_count": 11,
   "id": "23ed1297",
   "metadata": {},
   "outputs": [],
   "source": [
    "# Split dataset ke training set dan test set\n",
    "from sklearn.model_selection import train_test_split\n",
    "X_train, X_test, y_train, y_test = train_test_split(X, y, test_size=0.3, random_state=1) # 70% training and 30% test"
   ]
  },
  {
   "cell_type": "markdown",
   "id": "f5962a21",
   "metadata": {},
   "source": [
    "* cek jumlah data training dan tes"
   ]
  },
  {
   "cell_type": "code",
   "execution_count": 12,
   "id": "21fd8fae",
   "metadata": {},
   "outputs": [
    {
     "data": {
      "text/plain": [
       "((209, 12), (90, 12))"
      ]
     },
     "execution_count": 12,
     "metadata": {},
     "output_type": "execute_result"
    }
   ],
   "source": [
    "X_train.shape, X_test.shape"
   ]
  },
  {
   "cell_type": "markdown",
   "id": "6d081cf3",
   "metadata": {},
   "source": [
    "* confusion matrix"
   ]
  },
  {
   "cell_type": "code",
   "execution_count": 16,
   "id": "5feb7373",
   "metadata": {},
   "outputs": [
    {
     "data": {
      "image/png": "[encoded data removed]",
      "text/plain": [
       "<Figure size 432x288 with 2 Axes>"
      ]
     },
     "metadata": {
      "needs_background": "light"
     },
     "output_type": "display_data"
    }
   ],
   "source": [
    "plot_confusion_matrix(model, X_test, y_test)  \n",
    "plt.show()"
   ]
  },
  {
   "cell_type": "markdown",
   "id": "dd10fe28",
   "metadata": {},
   "source": [
    "* akurasi antara data training dan data tes"
   ]
  },
  {
   "cell_type": "code",
   "execution_count": 21,
   "id": "5c5689d3",
   "metadata": {},
   "outputs": [
    {
     "name": "stdout",
     "output_type": "stream",
     "text": [
      "Training set score: 0.8852\n",
      "Test set score: 0.8333\n"
     ]
    }
   ],
   "source": [
    "y_pred = model.predict(X_train)\n",
    "\n",
    "y_pred\n",
    "\n",
    "print('Training set score: {:.4f}'.format(model.score(X_train, y_train)))\n",
    "\n",
    "print('Test set score: {:.4f}'.format(model.score(X_test, y_test)))"
   ]
  },
  {
   "cell_type": "markdown",
   "id": "f65bf386",
   "metadata": {},
   "source": [
    "* selanjutnya kita akan membuat model untuk decision tree yang menggunakann Sklearn"
   ]
  },
  {
   "cell_type": "code",
   "execution_count": 15,
   "id": "437085db",
   "metadata": {},
   "outputs": [
    {
     "data": {
      "text/plain": [
       "DecisionTreeClassifier(max_depth=4)"
      ]
     },
     "execution_count": 15,
     "metadata": {},
     "output_type": "execute_result"
    }
   ],
   "source": [
    "# Menerapkan decision tree\n",
    "from sklearn.tree import DecisionTreeClassifier\n",
    "model = DecisionTreeClassifier (max_depth=4)\n",
    "model.fit(X_train, y_train)"
   ]
  },
  {
   "cell_type": "markdown",
   "id": "b8caaf82",
   "metadata": {},
   "source": [
    "* Model tree\n",
    "Setelah membuat model, selanjutnya membuat model tree yang sesuai dengan model yaitu ada sebanyak 4 layer"
   ]
  },
  {
   "cell_type": "code",
   "execution_count": null,
   "id": "aabe632e",
   "metadata": {},
   "outputs": [],
   "source": [
    "dot_data= tree.export_graphviz(model, out_file=None,feature_names = feature_cols,\n",
    "                               class_names=['1','0'],rounded=True,filled=True)\n",
    "graph = pydotplus.graph_from_dot_data(dot_data)  \n",
    "Image(graph.create_png())"
   ]
  },
  {
   "cell_type": "markdown",
   "id": "547e5313",
   "metadata": {},
   "source": [
    "* Hasil Klasifikasi Decision Tree\n",
    "Setelah membuat model decision tree dan tree nya, kita bisa melihat hasil klasfikasi decision tree"
   ]
  },
  {
   "cell_type": "code",
   "execution_count": 20,
   "id": "51b9a94e",
   "metadata": {},
   "outputs": [
    {
     "name": "stdout",
     "output_type": "stream",
     "text": [
      "              precision    recall  f1-score   support\n",
      "\n",
      "           0       0.84      0.95      0.89        64\n",
      "           1       0.82      0.54      0.65        26\n",
      "\n",
      "    accuracy                           0.83        90\n",
      "   macro avg       0.83      0.75      0.77        90\n",
      "weighted avg       0.83      0.83      0.82        90\n",
      "\n"
     ]
    }
   ],
   "source": [
    "from sklearn.metrics import classification_report\n",
    "y_pred = model.predict (X_test)\n",
    "print(classification_report(y_test, y_pred))"
   ]
  },
  {
   "cell_type": "markdown",
   "id": "df869f6f",
   "metadata": {},
   "source": [
    "# PREDIKSI MODEL"
   ]
  },
  {
   "cell_type": "code",
   "execution_count": 22,
   "id": "4da54d36",
   "metadata": {},
   "outputs": [
    {
     "name": "stdout",
     "output_type": "stream",
     "text": [
      "[1]\n",
      "Meninggal\n"
     ]
    }
   ],
   "source": [
    "input_data =(90,1,5643,1,40,1,265000,3,140,1,1,22)\n",
    "\n",
    "input_data_as_numpy_array = np.asarray(input_data)\n",
    "\n",
    "input_data_reshaped = input_data_as_numpy_array.reshape(1,-1)\n",
    "\n",
    "Prediction = model.predict(input_data_reshaped)\n",
    "\n",
    "print(Prediction)\n",
    "\n",
    "if (Prediction[0]== 0):\n",
    "  print(\"Hidup\")\n",
    "if (Prediction[0]== 1):\n",
    "  print(\"Meninggal\")\n"
   ]
  },
  {
   "cell_type": "code",
   "execution_count": null,
   "id": "6c19c4f9",
   "metadata": {},
   "outputs": [],
   "source": []
  }
 ],
 "metadata": {
  "kernelspec": {
   "display_name": "Python 3 (ipykernel)",
   "language": "python",
   "name": "python3"
  },
  "language_info": {
   "codemirror_mode": {
    "name": "ipython",
    "version": 3
   },
   "file_extension": ".py",
   "mimetype": "text/x-python",
   "name": "python",
   "nbconvert_exporter": "python",
   "pygments_lexer": "ipython3",
   "version": "3.9.5"
  }
 },
 "nbformat": 4,
 "nbformat_minor": 5
}
